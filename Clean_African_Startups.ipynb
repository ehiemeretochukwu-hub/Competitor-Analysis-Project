{
 "cells": [
  {
   "cell_type": "code",
   "execution_count": 6,
   "id": "0eaef091-aeaa-4156-8f2b-848ff0e76fdd",
   "metadata": {},
   "outputs": [
    {
     "name": "stdout",
     "output_type": "stream",
     "text": [
      "Arican startups Dataset...\n",
      "\n",
      " Missing values in each columns:\n",
      "Company Name              0\n",
      "Industry                  0\n",
      "Location                  0\n",
      "Funding (USD)             0\n",
      "Employees                 0\n",
      "Founding Year             0\n",
      "Growth Rate (%)           0\n",
      "Competitors               0\n",
      "Revenue Estimate (USD)    0\n",
      "Stage                     0\n",
      "dtype: int64\n"
     ]
    }
   ],
   "source": [
    "# import necessary libraries\n",
    "import pandas as pd\n",
    "import numpy as np\n",
    "\n",
    "# load the dataset\n",
    "print(\"Arican startups Dataset...\") \n",
    "df = pd.read_csv('African_startups.csv')\n",
    "\n",
    "# check for missing values\n",
    "\n",
    "print(\"\\n Missing values in each columns:\")\n",
    "print(df.isnull().sum())\n",
    "\n",
    "\n",
    "\n"
   ]
  },
  {
   "cell_type": "code",
   "execution_count": 15,
   "id": "5cc65941-0ed0-464f-9949-cedbb8c3f374",
   "metadata": {},
   "outputs": [],
   "source": [
    "# Step 3: Clean column names (remove spaces, standardize)\n",
    "df.columns = df.columns.str.strip().str.replace(' ', '_').str.replace('_(USD)', '', regex=False)\n",
    "# Fix the column name for Revenue Estimate (USD)\n",
    "df.rename(columns={\n",
    "    'Funding_USD': 'Funding',\n",
    "    'Revenue_Estimate_USD': 'Revenue_Estimate',\n",
    "    'Growth_Rate_(%)': 'Growth_Rate',\n",
    "    'Founding_Year': 'Founding_Year'\n",
    "}, inplace=True)\n",
    "\n"
   ]
  },
  {
   "cell_type": "code",
   "execution_count": 16,
   "id": "809769ae-faa8-4cb2-a954-81cc5691444d",
   "metadata": {},
   "outputs": [],
   "source": [
    "# Step 4: Handle missing or invalid data\n",
    "# Drop rows with missing critical data (Funding, Industry)\n",
    "df.dropna(subset=['Funding', 'Industry'], inplace=True)"
   ]
  },
  {
   "cell_type": "code",
   "execution_count": 17,
   "id": "884bb928-4373-4e5f-8c94-c354881721b5",
   "metadata": {},
   "outputs": [],
   "source": [
    "# Convert numeric columns to correct data types\n",
    "df['Funding'] = pd.to_numeric(df['Funding'], errors='coerce')\n",
    "df['Employees'] = pd.to_numeric(df['Employees'], errors='coerce')\n",
    "df['Growth_Rate'] = pd.to_numeric(df['Growth_Rate'], errors='coerce')"
   ]
  },
  {
   "cell_type": "code",
   "execution_count": 18,
   "id": "93ff7ead-7d03-45c5-b452-97b24e2177a3",
   "metadata": {},
   "outputs": [
    {
     "name": "stdout",
     "output_type": "stream",
     "text": [
      "\n",
      " Creating new business metrics...\n"
     ]
    }
   ],
   "source": [
    "# Step 5: Create new strategic metrics\n",
    "print(\"\\n Creating new business metrics...\")\n",
    "\n",
    "# Funding per Employee (efficiency metric)\n",
    "df['Funding_per_Employee'] = df['Funding'] / (df['Employees'] + 1)  # +1 to avoid division by zero\n"
   ]
  },
  {
   "cell_type": "code",
   "execution_count": 19,
   "id": "e7c74140-be92-4880-8481-5b765e1aa6bc",
   "metadata": {},
   "outputs": [],
   "source": [
    "# High-Growth Flag (Growth Rate > 20%)\n",
    "df['High_Growth'] = df['Growth_Rate'] > 20"
   ]
  },
  {
   "cell_type": "code",
   "execution_count": 20,
   "id": "07368b28-534f-4933-bdff-df245305ed92",
   "metadata": {},
   "outputs": [],
   "source": [
    "# Funding Stage Grouping (for analysis)\n",
    "df['Funding_Stage'] = pd.cut(\n",
    "    df['Funding'],\n",
    "    bins=[0, 500000, 1000000, 2000000, float('inf')],\n",
    "    labels=['Seed (<500K)', 'Series A (500K–1M)', 'Series B (1M–2M)', 'Series C+ (>2M)']\n",
    ")"
   ]
  },
  {
   "cell_type": "code",
   "execution_count": 21,
   "id": "163e9019-8293-4698-bc55-2b0206d01ce4",
   "metadata": {},
   "outputs": [],
   "source": [
    "# Step 6: Clean text fields (strip extra spaces)\n",
    "df['Company_Name'] = df['Company_Name'].str.strip()\n",
    "df['Location'] = df['Location'].str.strip()\n",
    "df['Industry'] = df['Industry'].str.strip()"
   ]
  },
  {
   "cell_type": "code",
   "execution_count": 22,
   "id": "4cacbe4f-bd4f-496d-95f1-0a2a398b8283",
   "metadata": {},
   "outputs": [
    {
     "name": "stdout",
     "output_type": "stream",
     "text": [
      "\n",
      " First 5 rows of cleaned data:\n",
      "    Company_Name    Industry Location  Funding  Employees  Growth_Rate  \\\n",
      "0  EdTech Africa      EdTech    Lagos  1200000         45         28.5   \n",
      "1       PayNaija     Fintech    Lagos  2500000         60         18.2   \n",
      "2  HealthPlus NG  HealthTech    Abuja   800000         30         32.1   \n",
      "3   LearnFast NG      EdTech    Lagos   600000         25         35.7   \n",
      "4    QuickPay GH     Fintech    Accra  1800000         50         21.4   \n",
      "\n",
      "   High_Growth  \n",
      "0         True  \n",
      "1        False  \n",
      "2         True  \n",
      "3         True  \n",
      "4         True  \n"
     ]
    }
   ],
   "source": [
    "# Step 7: Preview cleaned data\n",
    "print(\"\\n First 5 rows of cleaned data:\")\n",
    "print(df[['Company_Name', 'Industry', 'Location', 'Funding', 'Employees', 'Growth_Rate', 'High_Growth']].head())"
   ]
  },
  {
   "cell_type": "code",
   "execution_count": 23,
   "id": "de22ce0d-07a2-4d6d-87f7-372ce075f847",
   "metadata": {},
   "outputs": [
    {
     "name": "stdout",
     "output_type": "stream",
     "text": [
      "\n",
      " Cleaned data saved as 'cleaned_african_startups.csv'\n",
      " Ready for Power BI dashboarding and SQL analysis!\n"
     ]
    }
   ],
   "source": [
    "# Step 8: Save cleaned data for Power BI and SQL\n",
    "output_file = 'cleaned_african_startups.csv'\n",
    "df.to_csv(output_file, index=False)\n",
    "print(f\"\\n Cleaned data saved as '{output_file}'\")\n",
    "print(\" Ready for Power BI dashboarding and SQL analysis!\")"
   ]
  },
  {
   "cell_type": "code",
   "execution_count": 24,
   "id": "0700681c-541b-4212-9065-a04163dbdbf9",
   "metadata": {},
   "outputs": [
    {
     "name": "stdout",
     "output_type": "stream",
     "text": [
      "\n",
      " Summary: Key Stats\n",
      "Total Startups: 47\n",
      "Average Funding: $942,979\n",
      "Top Industry: EdTech\n",
      "High-Growth Startups (>20% growth): 40\n"
     ]
    }
   ],
   "source": [
    "# Display summary statistics\n",
    "print(\"\\n Summary: Key Stats\")\n",
    "print(f\"Total Startups: {len(df)}\")\n",
    "print(f\"Average Funding: ${df['Funding'].mean():,.0f}\")\n",
    "print(f\"Top Industry: {df['Industry'].mode()[0]}\")\n",
    "print(f\"High-Growth Startups (>20% growth): {df['High_Growth'].sum()}\")\n"
   ]
  },
  {
   "cell_type": "code",
   "execution_count": 25,
   "id": "09da02a6-20c5-4a6a-8ccd-df64361e3279",
   "metadata": {},
   "outputs": [
    {
     "name": "stdout",
     "output_type": "stream",
     "text": [
      "\n",
      " Top 5 High-Growth Startups:\n",
      "    Company_Name    Industry Location  Growth_Rate  Funding\n",
      "17      ShopZuri  E-commerce    Lagos         45.0   350000\n",
      "38          Zuri  E-commerce  Nairobi         43.8   370000\n",
      "26    BrightPath      EdTech   Kigali         42.3   320000\n",
      "8   Uzuri Beauty  E-commerce  Nairobi         41.2   400000\n",
      "24       CodeHub    Software    Lagos         39.5   400000\n"
     ]
    }
   ],
   "source": [
    "# Show top 5 high-growth startups\n",
    "print(\"\\n Top 5 High-Growth Startups:\")\n",
    "top_growth = df[df['High_Growth']].sort_values('Growth_Rate', ascending=False).head(5)\n",
    "print(top_growth[['Company_Name', 'Industry', 'Location', 'Growth_Rate', 'Funding']])"
   ]
  },
  {
   "cell_type": "code",
   "execution_count": null,
   "id": "9b21d453-3b5d-46b1-834d-f64423824732",
   "metadata": {},
   "outputs": [],
   "source": []
  }
 ],
 "metadata": {
  "kernelspec": {
   "display_name": "Python [conda env:base] *",
   "language": "python",
   "name": "conda-base-py"
  },
  "language_info": {
   "codemirror_mode": {
    "name": "ipython",
    "version": 3
   },
   "file_extension": ".py",
   "mimetype": "text/x-python",
   "name": "python",
   "nbconvert_exporter": "python",
   "pygments_lexer": "ipython3",
   "version": "3.13.5"
  }
 },
 "nbformat": 4,
 "nbformat_minor": 5
}
